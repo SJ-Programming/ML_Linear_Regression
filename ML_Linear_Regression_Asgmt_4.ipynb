{
  "nbformat": 4,
  "nbformat_minor": 0,
  "metadata": {
    "colab": {
      "provenance": []
    },
    "kernelspec": {
      "name": "python3",
      "display_name": "Python 3"
    },
    "language_info": {
      "name": "python"
    }
  },
  "cells": [
    {
      "cell_type": "markdown",
      "metadata": {
        "id": "42hlczUxo7Gd"
      },
      "source": [
        "**Assignment 4: Linear Regression**\n"
      ]
    },
    {
      "cell_type": "markdown",
      "metadata": {
        "id": "vzQNyJe2yckN"
      },
      "source": [
        "**Prediction of Plant Output Energy (PE) based on Ambient Temperature (AT)**"
      ]
    },
    {
      "cell_type": "markdown",
      "metadata": {
        "id": "BcAr61Ioq6JG"
      },
      "source": [
        "**Import Dependencies**\n",
        "\n",
        "Here all the necessary libraries and dependencies that will be used have been imported."
      ]
    },
    {
      "cell_type": "code",
      "metadata": {
        "id": "idIRiGK5o3_q"
      },
      "source": [
        "import pandas as pd\n",
        "import matplotlib.pyplot as plt\n",
        "import numpy as np\n",
        "\n",
        "from sklearn.linear_model import LinearRegression\n",
        "from sklearn.model_selection import train_test_split\n",
        "from sklearn.metrics import mean_squared_error, r2_score"
      ],
      "execution_count": null,
      "outputs": []
    },
    {
      "cell_type": "markdown",
      "metadata": {
        "id": "4tn0ZPiErdiz"
      },
      "source": [
        "**Mount Google Drive**\n",
        "\n",
        "Mouting the google drive because dataset has been uploaded on google drive. So need access to that dataset on google drive."
      ]
    },
    {
      "cell_type": "code",
      "metadata": {
        "colab": {
          "base_uri": "https://localhost:8080/"
        },
        "id": "IvzyNWAeu5nM",
        "outputId": "aa20833a-979e-413a-e9a0-6d6d6e256203"
      },
      "source": [
        "from google.colab import drive\n",
        "drive.mount('/content/drive')"
      ],
      "execution_count": null,
      "outputs": [
        {
          "output_type": "stream",
          "name": "stdout",
          "text": [
            "Mounted at /content/drive\n"
          ]
        }
      ]
    },
    {
      "cell_type": "markdown",
      "metadata": {
        "id": "d5kmC7eYr75l"
      },
      "source": [
        "**Read Dataset**\n",
        "\n",
        "The used here is downloaded from UCI machine learning datasets. The dataset contains 9568 data points collected from a Combined Cycle Power Plant over 6 years (2006-2011), when the power plant was set to work with full load. Features consist of hourly average ambient variables Temperature (AT), Ambient Pressure (AP), Relative Humidity (RH) and Exhaust Vacuum (V) to predict the net hourly electrical energy output (PE)  of the plant. The dataset is publicly available at:\n",
        "[Dataset Link](https://archive.ics.uci.edu/ml/datasets/Combined+Cycle+Power+Plant)"
      ]
    },
    {
      "cell_type": "code",
      "metadata": {
        "id": "hyr_rNlVvJPG"
      },
      "source": [
        "file = '/content/drive/MyDrive/Folds5x2_pp.xlsx'\n",
        "df = pd.read_excel(file)"
      ],
      "execution_count": null,
      "outputs": []
    },
    {
      "cell_type": "code",
      "metadata": {
        "colab": {
          "base_uri": "https://localhost:8080/"
        },
        "id": "ZRPKSg37wyMq",
        "outputId": "25f6a9b3-60ea-4288-d10d-df5c8ce2c282"
      },
      "source": [
        "print(df)"
      ],
      "execution_count": null,
      "outputs": [
        {
          "output_type": "stream",
          "name": "stdout",
          "text": [
            "         AT      V       AP     RH      PE\n",
            "0     14.96  41.76  1024.07  73.17  463.26\n",
            "1     25.18  62.96  1020.04  59.08  444.37\n",
            "2      5.11  39.40  1012.16  92.14  488.56\n",
            "3     20.86  57.32  1010.24  76.64  446.48\n",
            "4     10.82  37.50  1009.23  96.62  473.90\n",
            "...     ...    ...      ...    ...     ...\n",
            "9563  16.65  49.69  1014.01  91.00  460.03\n",
            "9564  13.19  39.18  1023.67  66.78  469.62\n",
            "9565  31.32  74.33  1012.92  36.48  429.57\n",
            "9566  24.48  69.45  1013.86  62.39  435.74\n",
            "9567  21.60  62.52  1017.23  67.87  453.28\n",
            "\n",
            "[9568 rows x 5 columns]\n"
          ]
        }
      ]
    },
    {
      "cell_type": "markdown",
      "metadata": {
        "id": "OSilaXA3tuUb"
      },
      "source": [
        "**Define X and Y for Linear Regression**\n",
        "\n",
        "In this project only ambient variable temperature (AT) is taken into consideration for the prediction of plant energy (PE)."
      ]
    },
    {
      "cell_type": "code",
      "metadata": {
        "id": "kXDMb5U8w6F8"
      },
      "source": [
        "X=df['AT'].values\n",
        "Y=df['PE'].values"
      ],
      "execution_count": null,
      "outputs": []
    },
    {
      "cell_type": "markdown",
      "metadata": {
        "id": "fZc-8yA5uMcM"
      },
      "source": [
        "**Plot this data**"
      ]
    },
    {
      "cell_type": "code",
      "metadata": {
        "colab": {
          "base_uri": "https://localhost:8080/",
          "height": 279
        },
        "id": "THO7vTZixZ1q",
        "outputId": "f5405c25-382f-4f58-bbe6-c71842d91503"
      },
      "source": [
        "plt.scatter(X,Y, color='blue')\n",
        "plt.xlabel('Ambient Temperature (AT)')\n",
        "plt.ylabel('Plant Energy (PE)')\n",
        "plt.show()"
      ],
      "execution_count": null,
      "outputs": [
        {
          "output_type": "display_data",
          "data": {
            "image/png": "[encoded data removed]",
            "text/plain": [
              "<Figure size 432x288 with 1 Axes>"
            ]
          },
          "metadata": {
            "needs_background": "light"
          }
        }
      ]
    },
    {
      "cell_type": "markdown",
      "metadata": {
        "id": "k-WGBxoku19F"
      },
      "source": [
        "**Linear Regression Model from Scratch**\n",
        "\n",
        "Initially, linear regression model is build from scratch using the concepts studied during the Linear Regression lecture."
      ]
    },
    {
      "cell_type": "code",
      "metadata": {
        "id": "K2gDw3_p2PZY"
      },
      "source": [
        "# Mean X and Y\n",
        "mean_x=np.mean(X)\n",
        "mean_y=np.mean(Y)"
      ],
      "execution_count": null,
      "outputs": []
    },
    {
      "cell_type": "code",
      "metadata": {
        "id": "9v4VNFuX2Y3f"
      },
      "source": [
        "# Total number of values\n",
        "m=len(X)"
      ],
      "execution_count": null,
      "outputs": []
    },
    {
      "cell_type": "code",
      "metadata": {
        "id": "c9H84xegi3ki"
      },
      "source": [
        "# Calculate co-efficients\n",
        "num=0\n",
        "den=0\n",
        "for i in range(m):\n",
        "  num += (X[i]-mean_x)*(Y[i]-mean_y)\n",
        "  den += (X[i]-mean_x)**2\n",
        "  b1=num/den\n",
        "  b0=mean_y-(b1*mean_x)"
      ],
      "execution_count": null,
      "outputs": []
    },
    {
      "cell_type": "code",
      "metadata": {
        "colab": {
          "base_uri": "https://localhost:8080/"
        },
        "id": "qkZZM5i6jeI5",
        "outputId": "f873f842-f653-410c-f5d8-fbc314fa8026"
      },
      "source": [
        "print(b1,b0)"
      ],
      "execution_count": null,
      "outputs": [
        {
          "output_type": "stream",
          "name": "stdout",
          "text": [
            "-2.17131995851779 497.0341198927667\n"
          ]
        }
      ]
    },
    {
      "cell_type": "code",
      "metadata": {
        "colab": {
          "base_uri": "https://localhost:8080/"
        },
        "id": "Hf_Z5oKojkIJ",
        "outputId": "4078dcdb-dbfb-4477-ba83-43f777cf2f6f"
      },
      "source": [
        "# Plotting values and regression line\n",
        "max_x =np.max(X)\n",
        "min_x =np.min(X)\n",
        "print(max_x,min_x)"
      ],
      "execution_count": null,
      "outputs": [
        {
          "output_type": "stream",
          "name": "stdout",
          "text": [
            "37.11 1.81\n"
          ]
        }
      ]
    },
    {
      "cell_type": "code",
      "metadata": {
        "id": "H_BarT6Tj4xm"
      },
      "source": [
        "# Calculating line values x and y\n",
        "x=np.linspace(min_x,max_x,10)\n",
        "y=b0+b1*x"
      ],
      "execution_count": null,
      "outputs": []
    },
    {
      "cell_type": "code",
      "metadata": {
        "colab": {
          "base_uri": "https://localhost:8080/",
          "height": 279
        },
        "id": "hqRVSFOgkZw6",
        "outputId": "7d107ea7-d9a2-4eee-8cc1-e41236ef03d9"
      },
      "source": [
        "# Plotting lines\n",
        "plt.plot(x,y,color='green',label='Regression Line')\n",
        "plt.scatter(X,Y,c='red',label='Scatter Plot')\n",
        "plt.xlabel('Ambient Temperature (AT)')\n",
        "plt.ylabel('Plant Energy (PE)')\n",
        "plt.legend()\n",
        "plt.show()"
      ],
      "execution_count": null,
      "outputs": [
        {
          "output_type": "display_data",
          "data": {
            "image/png": "[encoded data removed]",
            "text/plain": [
              "<Figure size 432x288 with 1 Axes>"
            ]
          },
          "metadata": {
            "needs_background": "light"
          }
        }
      ]
    },
    {
      "cell_type": "markdown",
      "metadata": {
        "id": "4pRNR9ZivZqO"
      },
      "source": [
        "**R2 Score Calculation**"
      ]
    },
    {
      "cell_type": "code",
      "metadata": {
        "id": "WC017OA6mv7X"
      },
      "source": [
        "ss_t=0\n",
        "ss_r=0\n",
        "for i in range(m):\n",
        "  y_pred=b0+b1*X[i]\n",
        "  ss_t += (Y[i]-mean_y)**2\n",
        "  ss_r += (Y[i]-y_pred)**2\n",
        "  r2=1-(ss_r/ss_t)"
      ],
      "execution_count": null,
      "outputs": []
    },
    {
      "cell_type": "code",
      "metadata": {
        "colab": {
          "base_uri": "https://localhost:8080/"
        },
        "id": "ohF5KFYRpyZ4",
        "outputId": "ababf7f5-0e8c-4c85-de17-858cfda36755"
      },
      "source": [
        "print('R2',r2)"
      ],
      "execution_count": null,
      "outputs": [
        {
          "output_type": "stream",
          "name": "stdout",
          "text": [
            "R2 0.8989475964148234\n"
          ]
        }
      ]
    },
    {
      "cell_type": "markdown",
      "metadata": {
        "id": "kSK9PyM5vg18"
      },
      "source": [
        "**Linear Regression using Sci-kit learn ML linear regression model**"
      ]
    },
    {
      "cell_type": "markdown",
      "metadata": {
        "id": "jIJgnY--v8jY"
      },
      "source": [
        "Split dataset into training and testing"
      ]
    },
    {
      "cell_type": "code",
      "metadata": {
        "id": "yvXuh-mfom9k"
      },
      "source": [
        "#Splitting the data into Train and Test'\n",
        "X_train, X_test, Y_train, Y_test = train_test_split(X,Y,random_state=0)"
      ],
      "execution_count": null,
      "outputs": []
    },
    {
      "cell_type": "markdown",
      "metadata": {
        "id": "brQ-WPsowK0h"
      },
      "source": [
        "**Model Training**"
      ]
    },
    {
      "cell_type": "code",
      "metadata": {
        "colab": {
          "base_uri": "https://localhost:8080/"
        },
        "id": "ch37C_b72sBP",
        "outputId": "64dcf413-af8c-4236-b6cf-522b67d92d25"
      },
      "source": [
        "#Training the model using X_train, Y_train\n",
        "model = LinearRegression()\n",
        "model.fit(X_train.reshape(-1,1),Y_train)"
      ],
      "execution_count": null,
      "outputs": [
        {
          "output_type": "execute_result",
          "data": {
            "text/plain": [
              "LinearRegression(copy_X=True, fit_intercept=True, n_jobs=None, normalize=False)"
            ]
          },
          "metadata": {},
          "execution_count": 17
        }
      ]
    },
    {
      "cell_type": "markdown",
      "metadata": {
        "id": "Zx9Lo-4VwQjl"
      },
      "source": [
        "**Prediction**"
      ]
    },
    {
      "cell_type": "code",
      "metadata": {
        "id": "QtuJKF2r29w5"
      },
      "source": [
        "#Predicting using the trained model - X_test\n",
        "Y_pred=model.predict(X_test.reshape(-1,1))"
      ],
      "execution_count": null,
      "outputs": []
    },
    {
      "cell_type": "code",
      "metadata": {
        "colab": {
          "base_uri": "https://localhost:8080/"
        },
        "id": "Z5Z39tt13GwD",
        "outputId": "1207483f-e248-4953-abd6-20a90b4ad1ab"
      },
      "source": [
        "print(Y_test) #Test data - actual data\n",
        "print(Y_pred) #Model predicted dataset"
      ],
      "execution_count": null,
      "outputs": [
        {
          "output_type": "stream",
          "name": "stdout",
          "text": [
            "[431.23 460.01 461.14 ... 468.9  473.9  437.07]\n",
            "[434.8051798  459.06628002 464.75179725 ... 468.63617734 476.64364244\n",
            " 441.16341089]\n"
          ]
        }
      ]
    },
    {
      "cell_type": "markdown",
      "metadata": {
        "id": "8agAoBoGwlCA"
      },
      "source": [
        "**Plot original test data and predicted test data**"
      ]
    },
    {
      "cell_type": "code",
      "metadata": {
        "colab": {
          "base_uri": "https://localhost:8080/",
          "height": 279
        },
        "id": "GZ_Cn8ej3XHX",
        "outputId": "f9773f77-e027-46dd-9bfa-9261a47d0e2a"
      },
      "source": [
        "plt.scatter(X_train,Y_train, color='red',label='Test')\n",
        "plt.scatter(X_test,Y_pred,color='green',label='Predicted Test')\n",
        "plt.xlabel('Ambient Temperature (AT)')\n",
        "plt.ylabel('Plant Energy (PE)')\n",
        "plt.legend()\n",
        "plt.xticks()\n",
        "plt.yticks()\n",
        "plt.show()"
      ],
      "execution_count": null,
      "outputs": [
        {
          "output_type": "display_data",
          "data": {
            "image/png": "[encoded data removed]",
            "text/plain": [
              "<Figure size 432x288 with 1 Axes>"
            ]
          },
          "metadata": {
            "needs_background": "light"
          }
        }
      ]
    },
    {
      "cell_type": "markdown",
      "metadata": {
        "id": "Jf02mqL-wt9_"
      },
      "source": [
        "**Intercept and Coefficient Calculations**"
      ]
    },
    {
      "cell_type": "code",
      "metadata": {
        "colab": {
          "base_uri": "https://localhost:8080/"
        },
        "id": "z4kcEvX63oIP",
        "outputId": "73f14549-e0d1-4b51-c5f8-3a91db3b0064"
      },
      "source": [
        "print('Intercept', model.intercept_)\n",
        "print('Coefficient', model.coef_)\n",
        "print(model.coef_,'x +',model.intercept_)"
      ],
      "execution_count": null,
      "outputs": [
        {
          "output_type": "stream",
          "name": "stdout",
          "text": [
            "Intercept 496.9986621359152\n",
            "Coefficient [-2.17004474]\n",
            "[-2.17004474] x + 496.9986621359152\n"
          ]
        }
      ]
    },
    {
      "cell_type": "markdown",
      "metadata": {
        "id": "v4RbaTj1xSQt"
      },
      "source": [
        "**Calculate RMSE and R2 score**"
      ]
    },
    {
      "cell_type": "code",
      "metadata": {
        "colab": {
          "base_uri": "https://localhost:8080/"
        },
        "id": "EbX_VeW-3t9-",
        "outputId": "045aa874-a476-4d31-efa2-6425849695aa"
      },
      "source": [
        "# model evaluation\n",
        "rmse = mean_squared_error(Y_test, Y_pred)\n",
        "r2 = r2_score(Y_test, Y_pred)\n",
        "\n",
        "print('Root Mean Square Error', rmse)\n",
        "print('R2 Score', r2)\n",
        "\n",
        "# Calculate and display accuracy\n",
        "accuracy = 100 - np.mean(rmse)\n",
        "print('Accuracy:', round(accuracy, 2), '%.')"
      ],
      "execution_count": null,
      "outputs": [
        {
          "output_type": "stream",
          "name": "stdout",
          "text": [
            "Root Mean Square Error 28.086491250245533\n",
            "R2 Score 0.9042343666907064\n",
            "Accuracy: 71.91 %.\n"
          ]
        }
      ]
    }
  ]
}